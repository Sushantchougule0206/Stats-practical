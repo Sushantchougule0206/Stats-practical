{
 "cells": [
  {
   "cell_type": "code",
   "execution_count": 1,
   "id": "ee943a6b",
   "metadata": {},
   "outputs": [],
   "source": [
    "data=[23,24,32,45,12,43,67,45,32,56,32]"
   ]
  },
  {
   "cell_type": "code",
   "execution_count": 2,
   "id": "99b01a45",
   "metadata": {},
   "outputs": [
    {
     "data": {
      "text/plain": [
       "[23, 24, 32, 45, 12, 43, 67, 45, 32, 56, 32]"
      ]
     },
     "execution_count": 2,
     "metadata": {},
     "output_type": "execute_result"
    }
   ],
   "source": [
    "data"
   ]
  },
  {
   "cell_type": "code",
   "execution_count": 3,
   "id": "0842f5df",
   "metadata": {},
   "outputs": [],
   "source": [
    "data_copy=data.copy()"
   ]
  },
  {
   "cell_type": "code",
   "execution_count": 4,
   "id": "e0cb2630",
   "metadata": {},
   "outputs": [
    {
     "data": {
      "text/plain": [
       "[23, 24, 32, 45, 12, 43, 67, 45, 32, 56, 32]"
      ]
     },
     "execution_count": 4,
     "metadata": {},
     "output_type": "execute_result"
    }
   ],
   "source": [
    "data_copy"
   ]
  },
  {
   "cell_type": "code",
   "execution_count": 6,
   "id": "4ec7a8be",
   "metadata": {},
   "outputs": [
    {
     "data": {
      "text/plain": [
       "<AxesSubplot:ylabel='Count'>"
      ]
     },
     "execution_count": 6,
     "metadata": {},
     "output_type": "execute_result"
    },
    {
     "data": {
      "image/png": "[encoded data removed]",
      "text/plain": [
       "<Figure size 432x288 with 1 Axes>"
      ]
     },
     "metadata": {
      "needs_background": "light"
     },
     "output_type": "display_data"
    }
   ],
   "source": [
    "import seaborn as sns\n",
    "sns.histplot(data_copy,kde=True)"
   ]
  },
  {
   "cell_type": "code",
   "execution_count": 7,
   "id": "c68d4456",
   "metadata": {},
   "outputs": [],
   "source": [
    "data_copy.sort()"
   ]
  },
  {
   "cell_type": "code",
   "execution_count": 8,
   "id": "3ba0f6bb",
   "metadata": {},
   "outputs": [
    {
     "data": {
      "text/plain": [
       "[12, 23, 24, 32, 32, 32, 43, 45, 45, 56, 67]"
      ]
     },
     "execution_count": 8,
     "metadata": {},
     "output_type": "execute_result"
    }
   ],
   "source": [
    "data_copy"
   ]
  },
  {
   "cell_type": "code",
   "execution_count": 9,
   "id": "4bb398c7",
   "metadata": {},
   "outputs": [],
   "source": [
    "data_copy.append(179)"
   ]
  },
  {
   "cell_type": "code",
   "execution_count": 10,
   "id": "22980e5a",
   "metadata": {},
   "outputs": [],
   "source": [
    "data_copy.append(210)"
   ]
  },
  {
   "cell_type": "code",
   "execution_count": 11,
   "id": "8ee2bbd9",
   "metadata": {},
   "outputs": [],
   "source": [
    "data_copy.append(290)"
   ]
  },
  {
   "cell_type": "code",
   "execution_count": 12,
   "id": "21264116",
   "metadata": {},
   "outputs": [
    {
     "data": {
      "text/plain": [
       "[12, 23, 24, 32, 32, 32, 43, 45, 45, 56, 67, 179, 210, 290]"
      ]
     },
     "execution_count": 12,
     "metadata": {},
     "output_type": "execute_result"
    }
   ],
   "source": [
    "data_copy"
   ]
  },
  {
   "cell_type": "code",
   "execution_count": 13,
   "id": "4ecde78b",
   "metadata": {},
   "outputs": [
    {
     "data": {
      "text/plain": [
       "<AxesSubplot:ylabel='Count'>"
      ]
     },
     "execution_count": 13,
     "metadata": {},
     "output_type": "execute_result"
    },
    {
     "data": {
      "image/png": "[encoded data removed]",
      "text/plain": [
       "<Figure size 432x288 with 1 Axes>"
      ]
     },
     "metadata": {
      "needs_background": "light"
     },
     "output_type": "display_data"
    }
   ],
   "source": [
    "import seaborn as sns\n",
    "sns.histplot(data_copy,kde=True)"
   ]
  },
  {
   "cell_type": "code",
   "execution_count": 14,
   "id": "61bb09fd",
   "metadata": {},
   "outputs": [
    {
     "data": {
      "text/plain": [
       "[23, 24, 32, 45, 12, 43, 67, 45, 32, 56, 32]"
      ]
     },
     "execution_count": 14,
     "metadata": {},
     "output_type": "execute_result"
    }
   ],
   "source": [
    "#this is a raw \n",
    "data"
   ]
  },
  {
   "cell_type": "code",
   "execution_count": 15,
   "id": "195437ab",
   "metadata": {},
   "outputs": [
    {
     "data": {
      "text/plain": [
       "[12, 23, 24, 32, 32, 32, 43, 45, 45, 56, 67, 179, 210, 290]"
      ]
     },
     "execution_count": 15,
     "metadata": {},
     "output_type": "execute_result"
    }
   ],
   "source": [
    "# this is a rgiht skwed data\n",
    "data_copy\n"
   ]
  },
  {
   "cell_type": "code",
   "execution_count": 17,
   "id": "d0f6eec6",
   "metadata": {},
   "outputs": [],
   "source": [
    "# this is my left skewd data\n",
    "data_copy2=data.copy()"
   ]
  },
  {
   "cell_type": "code",
   "execution_count": 19,
   "id": "3b31fb19",
   "metadata": {},
   "outputs": [
    {
     "data": {
      "text/plain": [
       "[23, 24, 32, 45, 12, 43, 67, 45, 32, 56, 32]"
      ]
     },
     "execution_count": 19,
     "metadata": {},
     "output_type": "execute_result"
    }
   ],
   "source": [
    "data_copy2"
   ]
  },
  {
   "cell_type": "code",
   "execution_count": 20,
   "id": "156095e0",
   "metadata": {},
   "outputs": [],
   "source": [
    "data_copy2.insert(0,-10)"
   ]
  },
  {
   "cell_type": "code",
   "execution_count": 21,
   "id": "575679e1",
   "metadata": {},
   "outputs": [
    {
     "data": {
      "text/plain": [
       "[-10, 23, 24, 32, 45, 12, 43, 67, 45, 32, 56, 32]"
      ]
     },
     "execution_count": 21,
     "metadata": {},
     "output_type": "execute_result"
    }
   ],
   "source": [
    "data_copy2"
   ]
  },
  {
   "cell_type": "code",
   "execution_count": 22,
   "id": "4a53af79",
   "metadata": {},
   "outputs": [],
   "source": [
    "data_copy2.insert(0,-75)"
   ]
  },
  {
   "cell_type": "code",
   "execution_count": 23,
   "id": "31ff72ba",
   "metadata": {},
   "outputs": [
    {
     "data": {
      "text/plain": [
       "[-75, -10, 23, 24, 32, 45, 12, 43, 67, 45, 32, 56, 32]"
      ]
     },
     "execution_count": 23,
     "metadata": {},
     "output_type": "execute_result"
    }
   ],
   "source": [
    "data_copy2"
   ]
  },
  {
   "cell_type": "code",
   "execution_count": 25,
   "id": "2d724d0f",
   "metadata": {},
   "outputs": [
    {
     "data": {
      "text/plain": [
       "<AxesSubplot:ylabel='Count'>"
      ]
     },
     "execution_count": 25,
     "metadata": {},
     "output_type": "execute_result"
    },
    {
     "data": {
      "image/png": "[encoded data removed]",
      "text/plain": [
       "<Figure size 432x288 with 1 Axes>"
      ]
     },
     "metadata": {
      "needs_background": "light"
     },
     "output_type": "display_data"
    }
   ],
   "source": [
    "sns.histplot(data_copy2,kde=True)"
   ]
  },
  {
   "cell_type": "code",
   "execution_count": 27,
   "id": "d2984f5e",
   "metadata": {},
   "outputs": [],
   "source": [
    "import pandas as pd\n",
    "data2=pd.read_csv(\"iris.csv\")"
   ]
  },
  {
   "cell_type": "code",
   "execution_count": 39,
   "id": "5586dee2",
   "metadata": {},
   "outputs": [
    {
     "data": {
      "text/plain": [
       "(150, 5)"
      ]
     },
     "execution_count": 39,
     "metadata": {},
     "output_type": "execute_result"
    }
   ],
   "source": [
    "data2.shape"
   ]
  },
  {
   "cell_type": "code",
   "execution_count": 28,
   "id": "9edf78b5",
   "metadata": {},
   "outputs": [
    {
     "data": {
      "text/html": [
       "<div>\n",
       "<style scoped>\n",
       "    .dataframe tbody tr th:only-of-type {\n",
       "        vertical-align: middle;\n",
       "    }\n",
       "\n",
       "    .dataframe tbody tr th {\n",
       "        vertical-align: top;\n",
       "    }\n",
       "\n",
       "    .dataframe thead th {\n",
       "        text-align: right;\n",
       "    }\n",
       "</style>\n",
       "<table border=\"1\" class=\"dataframe\">\n",
       "  <thead>\n",
       "    <tr style=\"text-align: right;\">\n",
       "      <th></th>\n",
       "      <th>sepal_length</th>\n",
       "      <th>sepal_width</th>\n",
       "      <th>petal_length</th>\n",
       "      <th>petal_width</th>\n",
       "      <th>species</th>\n",
       "    </tr>\n",
       "  </thead>\n",
       "  <tbody>\n",
       "    <tr>\n",
       "      <th>0</th>\n",
       "      <td>5.1</td>\n",
       "      <td>3.5</td>\n",
       "      <td>1.4</td>\n",
       "      <td>0.2</td>\n",
       "      <td>setosa</td>\n",
       "    </tr>\n",
       "    <tr>\n",
       "      <th>1</th>\n",
       "      <td>4.9</td>\n",
       "      <td>3.0</td>\n",
       "      <td>1.4</td>\n",
       "      <td>0.2</td>\n",
       "      <td>setosa</td>\n",
       "    </tr>\n",
       "    <tr>\n",
       "      <th>2</th>\n",
       "      <td>4.7</td>\n",
       "      <td>3.2</td>\n",
       "      <td>1.3</td>\n",
       "      <td>0.2</td>\n",
       "      <td>setosa</td>\n",
       "    </tr>\n",
       "    <tr>\n",
       "      <th>3</th>\n",
       "      <td>4.6</td>\n",
       "      <td>3.1</td>\n",
       "      <td>1.5</td>\n",
       "      <td>0.2</td>\n",
       "      <td>setosa</td>\n",
       "    </tr>\n",
       "    <tr>\n",
       "      <th>4</th>\n",
       "      <td>5.0</td>\n",
       "      <td>3.6</td>\n",
       "      <td>1.4</td>\n",
       "      <td>0.2</td>\n",
       "      <td>setosa</td>\n",
       "    </tr>\n",
       "  </tbody>\n",
       "</table>\n",
       "</div>"
      ],
      "text/plain": [
       "   sepal_length  sepal_width  petal_length  petal_width species\n",
       "0           5.1          3.5           1.4          0.2  setosa\n",
       "1           4.9          3.0           1.4          0.2  setosa\n",
       "2           4.7          3.2           1.3          0.2  setosa\n",
       "3           4.6          3.1           1.5          0.2  setosa\n",
       "4           5.0          3.6           1.4          0.2  setosa"
      ]
     },
     "execution_count": 28,
     "metadata": {},
     "output_type": "execute_result"
    }
   ],
   "source": [
    "data2.head()"
   ]
  },
  {
   "cell_type": "code",
   "execution_count": 32,
   "id": "773c5067",
   "metadata": {
    "scrolled": true
   },
   "outputs": [
    {
     "data": {
      "text/plain": [
       "<AxesSubplot:xlabel='sepal_length', ylabel='Count'>"
      ]
     },
     "execution_count": 32,
     "metadata": {},
     "output_type": "execute_result"
    },
    {
     "data": {
      "image/png": "[encoded data removed]",
      "text/plain": [
       "<Figure size 432x288 with 1 Axes>"
      ]
     },
     "metadata": {
      "needs_background": "light"
     },
     "output_type": "display_data"
    }
   ],
   "source": [
    "sns.histplot(data2[\"sepal_length\"],kde=True)"
   ]
  },
  {
   "cell_type": "code",
   "execution_count": 33,
   "id": "27914d94",
   "metadata": {},
   "outputs": [
    {
     "data": {
      "text/plain": [
       "<AxesSubplot:xlabel='sepal_width', ylabel='Count'>"
      ]
     },
     "execution_count": 33,
     "metadata": {},
     "output_type": "execute_result"
    },
    {
     "data": {
      "image/png": "[encoded data removed]",
      "text/plain": [
       "<Figure size 432x288 with 1 Axes>"
      ]
     },
     "metadata": {
      "needs_background": "light"
     },
     "output_type": "display_data"
    }
   ],
   "source": [
    "sns.histplot(data2[\"sepal_width\"],kde=True)"
   ]
  },
  {
   "cell_type": "code",
   "execution_count": 34,
   "id": "00eeebac",
   "metadata": {},
   "outputs": [
    {
     "data": {
      "text/plain": [
       "<AxesSubplot:xlabel='petal_length', ylabel='Count'>"
      ]
     },
     "execution_count": 34,
     "metadata": {},
     "output_type": "execute_result"
    },
    {
     "data": {
      "image/png": "[encoded data removed]",
      "text/plain": [
       "<Figure size 432x288 with 1 Axes>"
      ]
     },
     "metadata": {
      "needs_background": "light"
     },
     "output_type": "display_data"
    }
   ],
   "source": [
    "sns.histplot(data2[\"petal_length\"],kde=True)"
   ]
  },
  {
   "cell_type": "code",
   "execution_count": 35,
   "id": "6e79a2e1",
   "metadata": {},
   "outputs": [
    {
     "data": {
      "text/plain": [
       "<AxesSubplot:xlabel='petal_width', ylabel='Count'>"
      ]
     },
     "execution_count": 35,
     "metadata": {},
     "output_type": "execute_result"
    },
    {
     "data": {
      "image/png": "[encoded data removed]",
      "text/plain": [
       "<Figure size 432x288 with 1 Axes>"
      ]
     },
     "metadata": {
      "needs_background": "light"
     },
     "output_type": "display_data"
    }
   ],
   "source": [
    "sns.histplot(data2[\"petal_width\"],kde=True)"
   ]
  },
  {
   "cell_type": "code",
   "execution_count": null,
   "id": "8e8e64b4",
   "metadata": {},
   "outputs": [],
   "source": [
    "probability disrtribution function\n",
    "----------------------------------\n",
    "\n",
    "probabilty mass function (Discrete Probability Distribution)\n",
    "- uniform\n",
    "- bernouli \n",
    "- binomial dist\n",
    "- possion\n",
    "\n",
    "prprobabilty density function(Continues Probability Distribution)\n",
    "- uniform\n",
    "- normal(SND)\n",
    "- lognormal\n",
    "- power law\n",
    "- pareto"
   ]
  },
  {
   "cell_type": "code",
   "execution_count": 40,
   "id": "79175a97",
   "metadata": {},
   "outputs": [],
   "source": [
    "import numpy as np\n",
    "mu=0.5\n",
    "sigma=0.2\n",
    "normal_distributed_data=np.random.normal(mu,sigma,1000)"
   ]
  },
  {
   "cell_type": "code",
   "execution_count": 41,
   "id": "ea5153b4",
   "metadata": {},
   "outputs": [
    {
     "data": {
      "text/plain": [
       "array([ 0.36343364,  0.69933736,  0.39838735,  0.52549021,  0.54253345,\n",
       "        0.28821455,  1.0003367 ,  0.29161499,  0.56908161,  0.16540131,\n",
       "        0.74966947,  0.47112345,  0.57225653,  0.62379486,  0.38842473,\n",
       "        0.39264498,  0.36775723,  0.34256077,  0.28581266, -0.04341022,\n",
       "        0.52329099,  0.7829392 ,  0.28488822,  0.3031612 ,  0.31552441,\n",
       "        0.16390631,  0.25773108,  0.32165424,  0.88932342,  0.04259919,\n",
       "        0.34849597,  0.72041809,  0.52146156,  0.73012739,  0.67476278,\n",
       "        0.43833416,  0.45741334,  0.2874191 ,  0.72572501,  0.53384247,\n",
       "        0.44251284,  0.34065733,  0.37335814,  0.53532869,  0.68796901,\n",
       "        0.60628016,  0.39027871,  0.31871745,  0.6910609 ,  0.55008126,\n",
       "        0.43104498,  0.22944028,  0.42577205,  0.51123385,  0.72760126,\n",
       "        1.01859932,  0.66132025,  0.56894388,  0.39907886,  0.35499555,\n",
       "        0.18598418,  0.66739325,  0.18058718,  0.76093248,  0.52222071,\n",
       "        0.93586006,  0.30617733,  0.26243327,  0.59074378,  0.58140005,\n",
       "        0.12461622,  0.38826609,  0.28949921,  0.55001756,  0.74150537,\n",
       "        0.67532499,  0.50587939,  0.43629906,  0.68525572,  0.73526457,\n",
       "        0.12032275,  0.4756296 ,  0.47873029,  0.52770364,  0.53298494,\n",
       "        0.11767932,  0.40738171,  0.2905564 ,  0.46568849,  0.37640898,\n",
       "        0.67146279,  0.36058767,  0.41144487,  0.73866822,  0.41689392,\n",
       "        0.46080103,  0.55502447,  0.5649924 ,  0.86706874,  0.24355891,\n",
       "        0.39027249,  0.88450963,  0.58527983,  0.68861787,  0.65498339,\n",
       "        0.56626818,  0.40628089,  0.10281791,  0.57731674,  0.43110911,\n",
       "        0.49272241,  0.90922439,  0.84028957,  0.41432584,  0.63300526,\n",
       "        0.67217443,  0.47708586,  0.48386649,  0.60159942,  0.41972168,\n",
       "        0.70124803,  0.46106214,  0.45355409,  0.33428292,  0.47880262,\n",
       "        0.58901306,  0.39111032,  0.00806192,  0.29750123,  0.65655747,\n",
       "        0.51386714,  0.2648879 ,  0.65190768,  0.28919281,  0.44071337,\n",
       "        0.47625604,  0.33787745,  0.31750207,  0.37398178,  0.79719068,\n",
       "        0.29053677,  0.3962756 ,  0.4529873 ,  0.55579829,  0.47301093,\n",
       "        0.60085004,  0.61152184,  0.65442591,  0.44800306,  0.35607789,\n",
       "        0.62566546,  0.53449919,  0.45503571,  0.73476727,  0.47281715,\n",
       "        0.5536247 ,  0.337495  ,  0.81393215,  0.69365272,  0.79791931,\n",
       "        0.5005376 ,  0.23349766,  0.63560943,  0.4836323 ,  0.90466238,\n",
       "        0.84587813,  0.11914664,  0.47360129,  0.56662506,  0.79865252,\n",
       "        0.37286383,  0.54271345,  0.40644397,  0.55273545,  0.8919059 ,\n",
       "        0.70986081,  0.55670853,  0.32401646,  0.73393   ,  0.63375572,\n",
       "        0.30589209,  0.77808733,  0.4731749 ,  0.71563886,  0.59397423,\n",
       "        0.34177457,  0.63652939,  0.22752656,  0.68986535,  0.35607293,\n",
       "        0.18723608,  0.44839996,  0.60687361,  0.26495313,  0.57296022,\n",
       "        0.60642053,  0.55439429,  0.62262575,  0.31370887,  0.71448745,\n",
       "        0.61426639,  0.44786368,  0.5909971 ,  0.44253421,  0.24935372,\n",
       "        0.49872163,  0.56873073,  0.84178836,  0.73630505,  0.55564817,\n",
       "        0.63530973,  0.46750959,  0.45978326,  0.29553776,  0.45796539,\n",
       "        0.5095214 ,  0.31084669,  0.66842602,  0.43971405,  0.60060623,\n",
       "        0.61701711,  0.90923497,  0.51118473,  0.93581244,  0.8018811 ,\n",
       "        0.32190706,  0.46510254,  0.80346418,  0.83821321,  0.50342874,\n",
       "        0.45906529,  0.85857044,  0.3850346 ,  0.08443435,  0.68867135,\n",
       "        0.45998248,  0.31605093,  0.57865111,  0.34558012,  0.75924041,\n",
       "        0.79171125,  0.58611373,  0.6986247 ,  0.57738229,  0.54704993,\n",
       "        0.39143872,  0.51796843,  0.39912186,  0.50419522,  0.37337634,\n",
       "        0.7562083 ,  0.2290789 ,  0.80969108,  0.60616176,  0.42168324,\n",
       "        0.61022285,  0.19900108,  0.58674029,  0.57490554,  0.91298789,\n",
       "        0.61287337,  0.28523153,  0.85126147,  0.18972686,  0.3081737 ,\n",
       "        0.25454438,  0.5357209 ,  0.6155399 ,  0.43775691,  0.62028068,\n",
       "        0.51892191,  0.50431819,  0.63187083,  0.6974831 ,  0.60286876,\n",
       "        0.73307397,  0.64741541,  0.30005778,  0.3188233 ,  0.25331835,\n",
       "        0.86227663,  0.4207175 ,  0.77573739,  0.7777756 ,  0.67391492,\n",
       "        0.29764532,  0.03706987,  0.94711518,  0.79931137,  0.71058246,\n",
       "        0.82066017,  0.23020785,  0.78412736,  0.72166559,  0.73912759,\n",
       "        0.50768991,  0.68621602,  0.22648536,  0.79501724,  0.40441515,\n",
       "        0.46000627,  0.35803304,  0.1294558 ,  0.28302729,  0.33038866,\n",
       "        0.29923203,  0.57490681,  0.49512729,  0.2003427 ,  0.2171953 ,\n",
       "        0.75048661,  0.03151035,  0.45879246,  0.55293301,  0.20739997,\n",
       "        0.54330867,  0.75697882,  0.67666682,  0.76335704,  0.61985429,\n",
       "        0.79346032,  0.37673171,  0.38639144,  0.42201887,  0.60654895,\n",
       "        0.57240645,  0.58442121,  0.48059177,  0.10218711,  0.88921849,\n",
       "        0.53754476,  0.51558212,  0.49801823,  0.87687264,  0.7209544 ,\n",
       "        0.40306878,  0.09438634,  0.74564896,  0.76856422,  0.68413681,\n",
       "        0.22246369,  0.41490827,  0.29734391,  0.54954274,  0.72822167,\n",
       "        0.51703747,  0.74356307,  0.70672938,  0.55212584,  0.19610066,\n",
       "        0.34435792,  0.38033999,  0.38950947,  0.56326217,  0.33935526,\n",
       "        0.58543577,  0.43076549,  0.77753961,  0.18338822,  0.51493473,\n",
       "        0.3361063 ,  0.56186612,  0.54406116,  0.53046075,  0.27737305,\n",
       "        0.52868937,  0.29583853,  0.52983595,  0.23527601,  0.56480245,\n",
       "        0.67565166,  0.34416366,  0.17938928,  0.79066168,  0.42303892,\n",
       "        0.47890903,  0.43387061,  0.06674037,  0.18942326,  0.59246462,\n",
       "        0.70495228,  0.24637611,  0.28274539,  0.69968767,  0.34089244,\n",
       "        0.86717167,  0.730773  ,  0.57460682,  0.39007412,  0.26369787,\n",
       "        0.79096364,  0.59692909,  0.36062638,  0.29707904,  0.39327962,\n",
       "        0.75016171,  0.41076721,  0.5241698 ,  0.44690516,  0.25678521,\n",
       "        0.2495029 ,  0.21060336,  0.20730376,  0.81530894,  0.54408543,\n",
       "        0.73727099,  1.05063123,  0.52810477,  0.39139838,  0.82108943,\n",
       "        0.46318128,  0.8232431 ,  0.54538558,  0.66332687,  0.36420095,\n",
       "        0.42794802,  0.49603668,  0.64801927,  0.71743129,  0.50559751,\n",
       "        0.23433945,  0.40962647,  0.70311358,  0.58484976,  0.59027227,\n",
       "        0.69859896,  0.49992459,  0.49205643,  0.56814131,  0.73263678,\n",
       "        0.70319908,  0.5889758 ,  0.24437692,  0.38518141,  0.77965231,\n",
       "        0.78572183, -0.15949742,  0.61842937,  0.16408617,  0.56203547,\n",
       "        0.59565234,  0.76972671,  0.67134918,  0.62234656,  0.13905671,\n",
       "        0.32285131,  0.41291329,  0.96996825,  0.9523268 ,  1.01543992,\n",
       "        0.95626401,  0.94746379,  0.60271045,  0.63863764,  0.27242874,\n",
       "        0.47615386,  0.45741362,  0.43427043,  0.75221134,  0.39187205,\n",
       "        0.38664107,  0.83299119,  0.11645521,  0.47095837,  0.23779773,\n",
       "        0.36281591,  0.42368582,  0.62195105,  0.43255194,  0.40039166,\n",
       "        0.61584243,  0.65525205,  0.67041374,  0.29757533,  0.44080132,\n",
       "        0.75406684,  0.6271199 ,  0.7837302 ,  0.69064409,  0.71899871,\n",
       "        0.2844259 ,  0.82262497,  0.29560839,  0.393469  ,  0.2734684 ,\n",
       "        0.31235349,  0.24797748,  0.41867326,  0.58193546,  0.57104894,\n",
       "        0.68235216,  0.52974544,  0.39964378,  0.55281897,  0.66605697,\n",
       "        0.5692911 ,  0.38186079,  0.60490067,  0.64473559,  0.29914269,\n",
       "        0.32578775,  0.5636723 ,  0.34128813,  0.27801283,  0.58605108,\n",
       "        0.19832882,  0.43291977,  0.36842757,  0.58010725,  0.50378669,\n",
       "        0.38124413,  0.19400466,  0.44792444,  0.23433956,  0.2913421 ,\n",
       "        0.37836954,  0.57450402,  0.24664254,  0.63238691,  0.63085747,\n",
       "        0.85463241,  0.4182785 ,  0.31625037,  0.36976846,  0.38652374,\n",
       "        0.21619633,  0.59616859,  0.37332738,  0.74228883,  0.38775126,\n",
       "        0.3936748 ,  0.29458224,  0.59691777,  0.58434372,  0.55434759,\n",
       "        0.35076798,  0.68389073,  0.27715462,  0.28248191,  0.48801065,\n",
       "        0.42005315,  0.80775248,  0.45238206,  0.43568254,  0.45033662,\n",
       "        0.61804807,  0.5721793 ,  0.57859402,  0.65190198,  0.59422232,\n",
       "        0.4317952 ,  0.33031071,  0.39388385,  0.6318722 ,  0.53826625,\n",
       "        0.63074688,  0.60840128,  0.50346216,  0.536067  ,  0.39580802,\n",
       "        0.23478253,  0.80046991,  0.50485417,  0.54029753,  0.55183528,\n",
       "        0.47452739,  0.11800665,  0.39006036,  0.3457825 ,  0.4928729 ,\n",
       "        0.64159383,  0.16214541,  0.0188206 ,  0.59161231,  0.25547802,\n",
       "        0.60913119,  0.26079348,  0.24328987,  0.59618093,  0.41010734,\n",
       "        0.32531857,  0.57365427,  0.67255622,  0.37880415,  0.61648679,\n",
       "        0.48038448,  0.37441919,  0.68853319,  0.7741445 ,  0.47751838,\n",
       "        0.33350228,  0.14968384,  0.64094635,  0.53631599,  0.48090601,\n",
       "        0.66711709,  0.68213664,  0.4721062 ,  0.6352311 ,  0.20421402,\n",
       "        0.47864466,  0.70604901,  0.43692114,  0.42992687,  0.45729547,\n",
       "        0.30772723,  0.45684851,  0.35185506,  0.4554804 ,  0.44188543,\n",
       "        0.56441587,  0.61073974,  0.53589366,  0.38795291,  0.55717617,\n",
       "        0.6232803 ,  0.68349063,  0.50170838,  0.35203236,  0.62815128,\n",
       "        0.48311675,  0.44726436,  0.65346488,  0.8321444 ,  0.36252715,\n",
       "        0.47824543,  0.33535539,  0.39191277,  0.76532882,  0.68537941,\n",
       "        0.33944338,  0.42141745,  0.42592745,  0.65273223,  0.5387671 ,\n",
       "        0.91061766,  0.50936294,  0.35030022,  0.66078844,  0.64623589,\n",
       "        0.46697315,  0.22932947,  0.13837224,  0.13935755,  0.50541627,\n",
       "        0.46763142,  0.5111505 ,  0.35307325,  0.41546365,  0.7079433 ,\n",
       "        0.66919549,  0.60290738,  0.26336836,  0.52038235,  0.51914316,\n",
       "        0.41484445,  0.60280806,  0.36198318,  0.38181447,  0.25057347,\n",
       "        0.42199928,  0.81619771,  0.83047437,  0.56120678,  0.39887672,\n",
       "        0.26071587,  0.21653581,  1.18115526,  0.70339695,  1.18050842,\n",
       "        0.58961668,  0.43011362,  0.97823164,  0.59752462,  0.55136881,\n",
       "        0.60711878,  0.60223239,  0.48311591,  0.37168924,  0.4466784 ,\n",
       "        0.76350502,  0.63931666,  0.73790193,  0.14393945,  0.71251904,\n",
       "        0.59237399,  0.52248909,  0.37514196,  0.33340026,  0.43674518,\n",
       "        0.69312037,  0.46659351,  0.31998691,  0.4575409 ,  0.64802041,\n",
       "        0.23165312,  0.76410909,  0.32008408,  0.36328573,  0.32602056,\n",
       "        0.20613232,  0.7562534 ,  0.53087684,  0.44826055,  0.74139106,\n",
       "        0.39127613,  0.42161927,  0.71472226,  0.51069364,  0.43464542,\n",
       "        0.52338908,  0.66427568,  0.39730911,  0.25572715,  0.64547555,\n",
       "        0.20917144,  0.4525505 ,  0.54775521,  0.29582059,  0.75500583,\n",
       "        0.13678523,  0.52965561,  0.56526746,  0.35751116,  0.66691544,\n",
       "        0.78123246,  0.49639019,  0.32837481,  0.68956333,  0.09166787,\n",
       "        0.7997594 ,  0.2060344 ,  0.62282656,  0.2188353 ,  0.50761077,\n",
       "        0.38844559,  0.73307664,  0.17506438,  0.35872892,  0.33210423,\n",
       "        0.51164483,  0.36411253,  0.40262951,  0.74136756,  0.40033624,\n",
       "        0.31867333,  0.51518823,  0.61936123,  0.37168914,  0.31953663,\n",
       "        0.45466428,  0.32249377,  0.57284235,  0.37103476,  0.56725826,\n",
       "        0.43504441,  0.52286281,  0.82507795,  0.80698121,  0.18501121,\n",
       "        0.9365393 ,  0.46858477,  0.79163161,  0.45141375,  0.27390525,\n",
       "        0.49137553,  0.50380819,  0.57111812,  0.87117891,  0.79656398,\n",
       "        0.70991384,  0.56043036, -0.07438549,  0.88866236,  0.15483942,\n",
       "        0.37423982,  0.41420327,  0.66513527,  0.77112311,  0.30978547,\n",
       "        0.3669331 ,  0.62354429,  0.80612843,  0.67394829,  0.53026825,\n",
       "        1.02063625,  0.41079695,  0.26334344,  0.68053403,  0.24337524,\n",
       "        0.1077309 ,  0.31848955,  0.49092597,  0.80350679,  0.41251063,\n",
       "        0.79476922,  0.4054914 ,  0.1146875 ,  0.51014496,  0.5040083 ,\n",
       "        0.36184664,  0.53900463,  0.77397334,  0.50277775,  0.50921233,\n",
       "        0.61874854,  0.42513933,  0.44835437,  0.42852865,  0.4310624 ,\n",
       "        0.64498044,  0.82635086,  0.43374168,  0.56514787,  0.82007666,\n",
       "        0.60073798,  0.80355445,  0.44751704,  0.29233681,  0.46382809,\n",
       "        0.64115741,  0.14736138,  0.61616262,  0.53123155,  0.55742856,\n",
       "        0.57770631,  0.58001191,  0.36894305,  0.58291408,  0.83312209,\n",
       "        0.50018785,  0.10872301,  0.51915588,  0.59150392,  0.46745546,\n",
       "        0.61890672,  0.61964617,  0.68035948,  0.4193516 ,  0.35599239,\n",
       "        0.8375694 ,  0.51943116,  0.29357378,  0.51008317,  0.51367649,\n",
       "        0.75885306,  0.54723644,  0.47063051,  0.668681  ,  0.37263771,\n",
       "        0.20709058,  0.5659737 ,  0.75285451,  0.75883772,  0.26199997,\n",
       "        0.54728354,  0.40015282,  0.76431674,  0.61074003,  0.86498409,\n",
       "        0.75199217,  0.58976141,  0.58398421,  0.58691835,  0.47029983,\n",
       "        0.59339397,  0.54817841,  0.41803889,  0.51306643, -0.00281459,\n",
       "        0.67706659,  0.69010585,  0.60357735,  0.78270294,  0.72396202,\n",
       "        0.77588365,  0.48197703,  0.46192462,  0.36349311,  0.28677184,\n",
       "        0.66228364,  0.83029527,  0.54634926,  0.57746329,  0.52046673,\n",
       "        0.60743071,  0.31997077,  0.2164356 ,  0.26745058,  0.51608535,\n",
       "        0.3170117 ,  0.81957114,  0.53165815,  0.52144997,  0.32656357,\n",
       "        0.5808958 ,  0.56130282,  0.50671496,  0.42803389,  0.33595197,\n",
       "        0.42635849,  0.47317327,  0.37897955,  0.29968969,  0.08321955,\n",
       "        0.25376091,  0.32872656,  0.37085794,  0.53543956,  0.77101753,\n",
       "        0.37893537,  0.71848631,  0.38592701,  0.59291812,  0.51762985,\n",
       "        0.72371526,  0.41895079,  0.25457744,  0.30005785,  0.35874657,\n",
       "       -0.04589795,  0.57953639,  0.59868694,  0.20604963,  0.39843928,\n",
       "        0.62274873,  0.42044481,  0.32040248,  0.49870475,  0.76855523,\n",
       "        0.68683219,  0.23059302,  0.3126999 ,  0.63560194,  0.42584243,\n",
       "        0.36227589,  0.30924957,  0.40160653,  0.24811163,  0.42330714,\n",
       "        0.81282131,  0.44285508,  0.47712566,  0.72077603,  0.33624999,\n",
       "        0.81792294,  0.68859767,  0.26427763,  0.63328762,  0.44847707,\n",
       "        0.58658224,  0.61316187,  0.40620772,  0.42447541,  0.39724006,\n",
       "        0.33784931,  0.48309715,  0.56283363,  0.55876307,  0.3127529 ,\n",
       "        0.51179144,  0.43616707,  0.5319774 ,  0.07236021,  0.79423812,\n",
       "        0.47467909,  0.54231615,  0.47417332,  0.21865619,  0.60973052,\n",
       "        0.41329849,  0.38515012,  0.32268599,  0.70440008,  0.37470375,\n",
       "        0.36929985,  0.59988406,  0.47545447,  0.53042043,  0.41116635,\n",
       "        0.41523772,  0.68331666,  0.64809783,  0.34399513,  0.59998792,\n",
       "        0.58515556,  0.5901038 ,  0.26806688,  0.62297474,  0.62739789,\n",
       "        0.69619569,  0.71544913,  0.04246087,  0.47719469,  0.51003827,\n",
       "        0.73673268,  0.41022323,  0.679949  ,  0.52066385,  0.46071457])"
      ]
     },
     "execution_count": 41,
     "metadata": {},
     "output_type": "execute_result"
    }
   ],
   "source": [
    "normal_distributed_data"
   ]
  },
  {
   "cell_type": "code",
   "execution_count": 42,
   "id": "349fc252",
   "metadata": {},
   "outputs": [
    {
     "data": {
      "text/plain": [
       "<AxesSubplot:ylabel='Count'>"
      ]
     },
     "execution_count": 42,
     "metadata": {},
     "output_type": "execute_result"
    },
    {
     "data": {
      "image/png": "[encoded data removed]",
      "text/plain": [
       "<Figure size 432x288 with 1 Axes>"
      ]
     },
     "metadata": {
      "needs_background": "light"
     },
     "output_type": "display_data"
    }
   ],
   "source": [
    "sns.histplot(normal_distributed_data,kde=True)"
   ]
  },
  {
   "cell_type": "markdown",
   "id": "a036f85d",
   "metadata": {},
   "source": [
    "### In probability theory, a log-normal (or lognormal) distribution is a continuous probability distribution of a random variable whose logarithm is normally distributed. Thus, if the random variable X is log-normally distributed, then Y = ln(X) has a normal distribution.Equivalently, if Y has a normal distribution, then the exponential function of Y, X = exp(Y), has a log-normal distribution. "
   ]
  },
  {
   "cell_type": "code",
   "execution_count": 62,
   "id": "7fdcedf1",
   "metadata": {},
   "outputs": [],
   "source": [
    "mu=3.0\n",
    "sigma=1.0\n",
    "lognormal_distributed_data=np.random.lognormal(mu,sigma,1000)"
   ]
  },
  {
   "cell_type": "code",
   "execution_count": 63,
   "id": "e51d51ff",
   "metadata": {},
   "outputs": [
    {
     "data": {
      "text/plain": [
       "<AxesSubplot:ylabel='Count'>"
      ]
     },
     "execution_count": 63,
     "metadata": {},
     "output_type": "execute_result"
    },
    {
     "data": {
      "image/png": "[encoded data removed]",
      "text/plain": [
       "<Figure size 432x288 with 1 Axes>"
      ]
     },
     "metadata": {
      "needs_background": "light"
     },
     "output_type": "display_data"
    }
   ],
   "source": [
    "sns.histplot(lognormal_distributed_data,kde=True)"
   ]
  },
  {
   "cell_type": "code",
   "execution_count": 52,
   "id": "94d44793",
   "metadata": {},
   "outputs": [
    {
     "data": {
      "text/plain": [
       "<AxesSubplot:ylabel='Count'>"
      ]
     },
     "execution_count": 52,
     "metadata": {},
     "output_type": "execute_result"
    },
    {
     "data": {
      "image/png": "[encoded data removed]",
      "text/plain": [
       "<Figure size 432x288 with 1 Axes>"
      ]
     },
     "metadata": {
      "needs_background": "light"
     },
     "output_type": "display_data"
    }
   ],
   "source": [
    "sns.histplot(np.log(lognormal_distributed_data),kde=True)"
   ]
  },
  {
   "cell_type": "code",
   "execution_count": 66,
   "id": "2804c1a7",
   "metadata": {},
   "outputs": [],
   "source": [
    "import matplotlib.pyplot as plt\n",
    "import scipy.stats as stat\n",
    "import pylab\n",
    "\n",
    "def plot_data(data):\n",
    "    plt.figure(figsize=(10,6))\n",
    "    plt.subplot(1,2,1)\n",
    "    sns.histplot(data,kde=True)\n",
    "    plt.subplot(1,2,2)\n",
    "    stat.probplot(data,dist='norm',plot=pylab)\n",
    "    plt.show()"
   ]
  },
  {
   "cell_type": "code",
   "execution_count": 67,
   "id": "4c1a8e52",
   "metadata": {},
   "outputs": [
    {
     "data": {
      "image/png": "[encoded data removed]",
      "text/plain": [
       "<Figure size 720x432 with 2 Axes>"
      ]
     },
     "metadata": {
      "needs_background": "light"
     },
     "output_type": "display_data"
    }
   ],
   "source": [
    "plot_data(lognormal_distributed_data)"
   ]
  },
  {
   "cell_type": "code",
   "execution_count": 68,
   "id": "315f9755",
   "metadata": {},
   "outputs": [
    {
     "data": {
      "image/png": "[encoded data removed]",
      "text/plain": [
       "<Figure size 720x432 with 2 Axes>"
      ]
     },
     "metadata": {
      "needs_background": "light"
     },
     "output_type": "display_data"
    }
   ],
   "source": [
    "plot_data(np.log(lognormal_distributed_data))"
   ]
  },
  {
   "cell_type": "code",
   "execution_count": null,
   "id": "74115e42",
   "metadata": {},
   "outputs": [],
   "source": []
  },
  {
   "cell_type": "code",
   "execution_count": 73,
   "id": "e6d0e5fa",
   "metadata": {},
   "outputs": [
    {
     "data": {
      "text/plain": [
       "array([2.93860138e-01, 4.95472079e-01, 2.84931662e-01, 2.81089044e-01,\n",
       "       7.38253094e-01, 1.52225806e-01, 7.83671780e-01, 5.14152509e-01,\n",
       "       2.23089455e-01, 7.13287067e-01, 6.71295422e-01, 7.70437134e-01,\n",
       "       3.52417648e-01, 9.60412077e-01, 9.37825778e-03, 6.52598263e-01,\n",
       "       4.43684186e-01, 5.89843023e-01, 1.28390098e-02, 4.22135616e-02,\n",
       "       8.35051320e-01, 2.61368582e-01, 2.58671198e-01, 6.67598397e-01,\n",
       "       8.15655231e-01, 9.27270512e-01, 2.45788843e-01, 1.04265689e-01,\n",
       "       9.30836196e-01, 9.81333922e-01, 1.81717234e-01, 6.68203245e-01,\n",
       "       5.95501666e-02, 6.05147435e-01, 3.30576460e-02, 6.58303474e-01,\n",
       "       4.33338834e-01, 2.23834302e-01, 9.74741489e-01, 7.28104730e-01,\n",
       "       2.63594891e-01, 3.44696150e-01, 4.82721190e-01, 4.88284786e-01,\n",
       "       1.58524719e-01, 6.93129535e-01, 7.58057041e-02, 9.26881123e-01,\n",
       "       5.58848968e-01, 8.13160675e-01, 4.56422706e-01, 6.63841378e-01,\n",
       "       1.03975598e-01, 1.55264518e-01, 4.62513066e-01, 9.04148246e-02,\n",
       "       2.65290732e-01, 5.36229256e-01, 3.38843873e-01, 1.57154310e-01,\n",
       "       3.69910748e-01, 2.51861216e-01, 9.81275985e-01, 5.07343407e-01,\n",
       "       4.97696097e-01, 7.71461442e-01, 9.96927756e-01, 4.82256437e-01,\n",
       "       9.92102720e-01, 5.96673264e-01, 4.47572057e-01, 7.65353633e-01,\n",
       "       7.33103100e-01, 2.14801691e-01, 7.40096200e-01, 7.92179549e-01,\n",
       "       4.10858366e-01, 9.91457048e-01, 1.19622127e-01, 7.41597735e-01,\n",
       "       6.80928189e-01, 7.58938075e-01, 4.45489854e-01, 9.14633744e-01,\n",
       "       3.04840444e-01, 9.58716660e-01, 8.11519301e-01, 7.01608544e-02,\n",
       "       1.34434582e-02, 8.65714717e-01, 3.49528222e-02, 9.73883188e-01,\n",
       "       8.31747617e-01, 8.32444093e-01, 5.33124915e-02, 1.80919191e-01,\n",
       "       2.80495224e-01, 7.90326314e-01, 5.70979780e-01, 7.52945438e-01,\n",
       "       2.67524821e-01, 7.15851070e-01, 5.02229798e-01, 3.57430104e-01,\n",
       "       4.60765234e-01, 6.34545205e-01, 3.52515133e-01, 3.29309102e-01,\n",
       "       5.90309606e-01, 1.12043793e-02, 9.09732573e-02, 9.85433127e-01,\n",
       "       9.88448466e-01, 1.62284424e-01, 3.21561498e-01, 4.70702851e-01,\n",
       "       2.63707953e-01, 6.76827176e-01, 2.03267865e-01, 7.12336304e-01,\n",
       "       6.52807981e-01, 2.31859513e-01, 6.54876551e-01, 6.29503362e-01,\n",
       "       3.70851048e-01, 7.68371306e-01, 1.54684958e-01, 8.58004035e-01,\n",
       "       5.11463857e-04, 7.01687379e-01, 1.87715508e-01, 7.47124189e-01,\n",
       "       9.09160911e-01, 2.85374628e-01, 2.41820297e-01, 9.05012954e-01,\n",
       "       8.37170797e-01, 9.09032026e-01, 7.45892460e-01, 6.61357276e-01,\n",
       "       8.82434007e-02, 5.97293520e-02, 9.92372552e-01, 1.64521999e-01,\n",
       "       6.34558760e-01, 8.11830925e-01, 4.22134674e-01, 8.71717384e-01,\n",
       "       3.84615491e-01, 1.06941952e-01, 9.61478824e-01, 7.69454733e-01,\n",
       "       8.09618200e-01, 4.07491782e-01, 9.31198041e-01, 2.30867181e-01,\n",
       "       7.71820613e-01, 5.06940437e-01, 4.29272638e-01, 3.28037042e-01,\n",
       "       5.03156777e-01, 5.49883382e-01, 4.00460726e-01, 6.29376116e-02,\n",
       "       1.38779457e-01, 6.66245167e-01, 4.91236576e-01, 7.95276100e-01,\n",
       "       6.42368024e-01, 9.45445182e-01, 8.04327897e-01, 8.54359474e-01,\n",
       "       2.59063127e-01, 3.51004908e-02, 5.71714355e-01, 1.62399949e-01,\n",
       "       6.31114868e-01, 5.60604464e-02, 5.28333580e-01, 4.74044565e-01,\n",
       "       6.37607610e-03, 2.72376113e-01, 9.47351468e-01, 9.74892253e-01,\n",
       "       6.30421061e-02, 6.97080665e-01, 2.58871710e-01, 3.84736464e-01,\n",
       "       8.70728876e-01, 1.54787135e-01, 5.18050385e-01, 1.61178149e-01,\n",
       "       5.01978841e-02, 4.65779772e-01, 6.24722319e-01, 2.16955917e-01,\n",
       "       7.29901952e-01, 6.32166551e-01, 9.34086779e-02, 8.97449282e-01,\n",
       "       2.29984179e-01, 1.42197629e-01, 6.43073646e-01, 4.84652414e-01,\n",
       "       4.73277105e-01, 7.07370593e-02, 4.35863825e-01, 5.37565195e-02,\n",
       "       1.26970582e-01, 6.75887995e-01, 8.87437070e-01, 3.87487164e-01,\n",
       "       3.60490402e-01, 3.74788524e-01, 6.09792333e-01, 2.39499882e-01,\n",
       "       6.81975424e-01, 1.51977068e-02, 8.40700987e-01, 5.66901712e-01,\n",
       "       5.49734143e-01, 6.58834351e-01, 6.21285987e-02, 5.24923644e-02,\n",
       "       8.21976360e-01, 5.54138552e-01, 9.06984005e-01, 4.33377929e-03,\n",
       "       1.70377611e-02, 2.75243963e-01, 5.47555138e-01, 1.85912230e-01,\n",
       "       7.30768244e-01, 5.31939065e-01, 2.86224053e-01, 3.61939617e-01,\n",
       "       2.23906900e-01, 6.67315180e-01, 6.60394698e-01, 7.17101025e-02,\n",
       "       6.91138309e-02, 7.07644177e-01, 8.36083058e-03, 3.45344536e-01,\n",
       "       5.97827452e-01, 5.40551994e-01, 2.02826257e-01, 8.85230372e-01,\n",
       "       5.58720097e-01, 9.18697090e-01, 2.63953064e-01, 9.32633368e-01,\n",
       "       3.35776328e-01, 9.84567381e-02, 2.77816874e-01, 5.06281311e-01,\n",
       "       5.60454349e-01, 1.09450710e-01, 4.26350860e-01, 5.13092038e-01,\n",
       "       5.59189279e-01, 6.02126831e-01, 4.10421035e-01, 6.75829229e-01,\n",
       "       9.11118127e-01, 8.46309458e-01, 2.81785809e-01, 6.91022478e-01,\n",
       "       8.51568388e-01, 6.14284548e-01, 6.13935764e-01, 9.76521416e-01,\n",
       "       6.12670743e-01, 6.04104155e-01, 4.24479898e-01, 4.37937693e-01,\n",
       "       4.69504584e-01, 4.58789755e-02, 4.41695333e-02, 1.76933000e-01,\n",
       "       3.17170926e-01, 3.67126341e-01, 1.18531079e-01, 5.89890688e-01,\n",
       "       7.44138671e-01, 3.27450683e-01, 3.11375706e-01, 7.84050982e-01,\n",
       "       9.82551133e-01, 9.44796705e-01, 2.99426129e-01, 7.75177728e-01,\n",
       "       2.68300077e-01, 3.29530884e-01, 2.59015161e-01, 3.79508655e-01,\n",
       "       3.51790077e-01, 6.68640280e-01, 2.65609528e-01, 2.69786670e-01,\n",
       "       9.73736891e-01, 2.03200858e-01, 7.24304195e-01, 1.37786115e-01,\n",
       "       1.85130911e-01, 6.03671585e-01, 4.88888792e-01, 6.02390107e-01,\n",
       "       4.52889999e-01, 1.66006238e-01, 7.77646356e-01, 2.93325156e-01,\n",
       "       4.68093465e-01, 8.24640348e-01, 3.47833470e-01, 7.76139498e-01,\n",
       "       1.38709819e-01, 4.60878941e-01, 2.47533998e-02, 3.71976041e-01,\n",
       "       3.84549565e-01, 2.64246123e-01, 7.37548977e-01, 1.94114094e-01,\n",
       "       8.31577293e-01, 2.63618985e-01, 7.30027731e-01, 2.41370206e-02,\n",
       "       9.73986458e-01, 3.35632351e-01, 1.63572678e-01, 4.29269445e-01,\n",
       "       6.74613290e-01, 1.15210008e-01, 8.45212680e-01, 8.46359337e-01,\n",
       "       5.72662338e-01, 4.35302582e-01, 4.74974098e-01, 3.52540611e-01,\n",
       "       9.60145409e-01, 6.64553985e-01, 2.15690762e-01, 8.39424266e-01,\n",
       "       2.77964260e-01, 8.07808137e-01, 8.03578203e-01, 5.67059462e-01,\n",
       "       7.50958458e-01, 8.47951732e-01, 1.49650060e-01, 9.96060795e-02,\n",
       "       4.04922117e-01, 5.28213272e-01, 9.32991781e-01, 4.40480489e-01,\n",
       "       8.21593741e-01, 7.91037511e-01, 4.21196541e-01, 8.58976680e-01,\n",
       "       5.76385508e-01, 1.61707805e-01, 5.14270931e-01, 9.89608435e-01,\n",
       "       9.89982818e-01, 4.63892786e-01, 1.56120536e-01, 9.52039392e-02,\n",
       "       8.11854176e-01, 7.47035967e-01, 4.09129162e-01, 7.23102802e-01,\n",
       "       3.09335024e-01, 1.16220190e-01, 8.21328077e-01, 3.48332605e-01,\n",
       "       3.16960778e-02, 2.96699536e-01, 8.88468017e-01, 2.56795801e-01,\n",
       "       8.95570667e-01, 4.49643020e-01, 9.54495842e-01, 8.03507821e-01,\n",
       "       7.52116593e-02, 4.94382090e-01, 3.56753091e-02, 3.24990290e-01,\n",
       "       1.22520704e-01, 1.52585501e-01, 5.00673077e-01, 4.79897386e-01,\n",
       "       7.57166688e-03, 6.11775654e-01, 5.39458737e-01, 3.57912591e-01,\n",
       "       9.30957796e-01, 7.03815834e-02, 1.50507219e-01, 6.76053621e-01,\n",
       "       5.66124154e-02, 3.29880312e-01, 9.58488858e-01, 1.20351403e-01,\n",
       "       5.65817054e-01, 6.10041854e-01, 2.49762914e-01, 9.40282681e-01,\n",
       "       2.28795392e-01, 8.11558561e-01, 8.66658871e-01, 8.31897070e-01,\n",
       "       3.11303910e-01, 2.06754962e-01, 6.36111807e-01, 7.27804595e-01,\n",
       "       4.00476668e-01, 2.21238702e-01, 2.62625912e-01, 4.03417459e-01,\n",
       "       5.28057558e-01, 9.28803573e-01, 7.51336551e-01, 3.26830861e-02,\n",
       "       5.06678787e-01, 5.13477747e-01, 7.24807491e-01, 7.99321478e-03,\n",
       "       4.57768985e-01, 1.06992492e-01, 5.71599094e-01, 1.75444781e-01,\n",
       "       6.59476846e-01, 9.40806458e-01, 9.00509716e-01, 1.56812091e-01,\n",
       "       2.10154765e-01, 4.17472269e-01, 2.60068059e-01, 1.79252668e-01,\n",
       "       9.77856029e-01, 8.87240404e-01, 9.36760940e-01, 1.66252245e-01,\n",
       "       4.42787906e-02, 5.66258061e-01, 9.25964203e-01, 1.65954239e-01,\n",
       "       9.00832268e-01, 5.94282553e-01, 9.52130240e-01, 6.42814813e-01,\n",
       "       5.60776112e-01, 4.34466862e-01, 1.19227498e-01, 2.14800629e-01,\n",
       "       5.94151631e-01, 9.14393598e-01, 9.70548350e-01, 6.90883174e-01,\n",
       "       9.10765491e-01, 2.84590718e-01, 2.75413961e-01, 7.92576099e-01,\n",
       "       7.24835706e-01, 5.12373574e-01, 7.15783348e-01, 2.96226358e-03,\n",
       "       6.25761288e-01, 1.59145789e-01, 2.17181704e-01, 6.77890025e-01,\n",
       "       2.37820753e-01, 1.71395677e-01, 1.19751224e-01, 2.53109112e-01,\n",
       "       7.18314427e-01, 3.47169547e-02, 4.09164319e-01, 5.74509594e-01,\n",
       "       8.63314831e-01, 3.33586105e-01, 4.99427676e-02, 3.01028259e-01,\n",
       "       5.21619445e-01, 2.24322897e-01, 9.52295852e-01, 7.82929024e-01,\n",
       "       6.56662614e-01, 5.69358085e-01, 5.44229297e-01, 5.50914704e-01,\n",
       "       4.46272787e-01, 9.24471387e-01, 8.85309171e-01, 5.71048592e-01,\n",
       "       5.90935369e-01, 9.97461864e-02, 4.62462660e-01, 2.01277304e-01])"
      ]
     },
     "execution_count": 73,
     "metadata": {},
     "output_type": "execute_result"
    }
   ],
   "source": [
    "random.uniform(size=500)"
   ]
  },
  {
   "cell_type": "code",
   "execution_count": 71,
   "id": "c33ee313",
   "metadata": {},
   "outputs": [
    {
     "name": "stderr",
     "output_type": "stream",
     "text": [
      "C:\\ProgramData\\Anaconda3\\lib\\site-packages\\seaborn\\distributions.py:2619: FutureWarning: `distplot` is a deprecated function and will be removed in a future version. Please adapt your code to use either `displot` (a figure-level function with similar flexibility) or `kdeplot` (an axes-level function for kernel density plots).\n",
      "  warnings.warn(msg, FutureWarning)\n"
     ]
    },
    {
     "data": {
      "text/plain": [
       "<AxesSubplot:ylabel='Density'>"
      ]
     },
     "execution_count": 71,
     "metadata": {},
     "output_type": "execute_result"
    },
    {
     "data": {
      "image/png": "[encoded data removed]",
      "text/plain": [
       "<Figure size 432x288 with 1 Axes>"
      ]
     },
     "metadata": {
      "needs_background": "light"
     },
     "output_type": "display_data"
    }
   ],
   "source": [
    "from numpy import random\n",
    "sns.distplot(random.uniform(size=500),hist=False)"
   ]
  },
  {
   "cell_type": "code",
   "execution_count": 74,
   "id": "52922f12",
   "metadata": {},
   "outputs": [
    {
     "data": {
      "text/plain": [
       "<AxesSubplot:ylabel='Count'>"
      ]
     },
     "execution_count": 74,
     "metadata": {},
     "output_type": "execute_result"
    },
    {
     "data": {
      "image/png": "[encoded data removed]",
      "text/plain": [
       "<Figure size 432x288 with 1 Axes>"
      ]
     },
     "metadata": {
      "needs_background": "light"
     },
     "output_type": "display_data"
    }
   ],
   "source": [
    "sns.histplot(np.random.randint(1,8,size=800))"
   ]
  },
  {
   "cell_type": "code",
   "execution_count": 75,
   "id": "9f94739e",
   "metadata": {},
   "outputs": [
    {
     "data": {
      "text/plain": [
       "<AxesSubplot:ylabel='Count'>"
      ]
     },
     "execution_count": 75,
     "metadata": {},
     "output_type": "execute_result"
    },
    {
     "data": {
      "image/png": "[encoded data removed]",
      "text/plain": [
       "<Figure size 432x288 with 1 Axes>"
      ]
     },
     "metadata": {
      "needs_background": "light"
     },
     "output_type": "display_data"
    }
   ],
   "source": [
    "p=0.3\n",
    "sample_size=1000\n",
    "\n",
    "bernouli_data=np.random.choice([0,1],size=sample_size,p=[1-p,p])\n",
    "\n",
    "sns.histplot(bernouli_data,bins=2,kde=False,color=\"blue\")"
   ]
  },
  {
   "cell_type": "code",
   "execution_count": 80,
   "id": "4def3cbd",
   "metadata": {},
   "outputs": [],
   "source": [
    "no_of_trials=10\n",
    "probaility=0.6\n",
    "\n",
    "data3=np.random.binomial(no_of_trials,probaility,10000)"
   ]
  },
  {
   "cell_type": "code",
   "execution_count": 81,
   "id": "93d1bb26",
   "metadata": {},
   "outputs": [
    {
     "name": "stderr",
     "output_type": "stream",
     "text": [
      "C:\\ProgramData\\Anaconda3\\lib\\site-packages\\seaborn\\distributions.py:2619: FutureWarning: `distplot` is a deprecated function and will be removed in a future version. Please adapt your code to use either `displot` (a figure-level function with similar flexibility) or `histplot` (an axes-level function for histograms).\n",
      "  warnings.warn(msg, FutureWarning)\n"
     ]
    },
    {
     "data": {
      "text/plain": [
       "<AxesSubplot:ylabel='Density'>"
      ]
     },
     "execution_count": 81,
     "metadata": {},
     "output_type": "execute_result"
    },
    {
     "data": {
      "image/png": "[encoded data removed]",
      "text/plain": [
       "<Figure size 432x288 with 1 Axes>"
      ]
     },
     "metadata": {
      "needs_background": "light"
     },
     "output_type": "display_data"
    }
   ],
   "source": [
    "sns.distplot(data3)"
   ]
  },
  {
   "cell_type": "code",
   "execution_count": 82,
   "id": "c6addaf6",
   "metadata": {},
   "outputs": [
    {
     "name": "stderr",
     "output_type": "stream",
     "text": [
      "C:\\ProgramData\\Anaconda3\\lib\\site-packages\\seaborn\\distributions.py:2619: FutureWarning: `distplot` is a deprecated function and will be removed in a future version. Please adapt your code to use either `displot` (a figure-level function with similar flexibility) or `histplot` (an axes-level function for histograms).\n",
      "  warnings.warn(msg, FutureWarning)\n"
     ]
    },
    {
     "data": {
      "image/png": "[encoded data removed]",
      "text/plain": [
       "<Figure size 432x288 with 1 Axes>"
      ]
     },
     "metadata": {
      "needs_background": "light"
     },
     "output_type": "display_data"
    }
   ],
   "source": [
    "poisson_data = np.random.poisson(lam=5, size=1000)\n",
    " \n",
    "# plotting a histogram\n",
    "ax = sns.distplot(poisson_data,\n",
    "                  kde=False,\n",
    "                  color='blue')\n",
    "ax.set(xlabel='Poisson Distribution', ylabel='Frequency')\n",
    " \n",
    "plt.show()"
   ]
  },
  {
   "cell_type": "markdown",
   "id": "76306813",
   "metadata": {},
   "source": [
    "# central limit theoram"
   ]
  },
  {
   "cell_type": "code",
   "execution_count": 84,
   "id": "201c5e18",
   "metadata": {},
   "outputs": [],
   "source": [
    "population=np.random.randint(10,20,50)"
   ]
  },
  {
   "cell_type": "code",
   "execution_count": 85,
   "id": "26f7a832",
   "metadata": {},
   "outputs": [
    {
     "data": {
      "text/plain": [
       "array([18, 13, 12, 14, 17, 10, 15, 11, 19, 10, 16, 13, 16, 16, 12, 14, 19,\n",
       "       18, 15, 13, 17, 17, 17, 19, 18, 19, 17, 13, 16, 18, 13, 19, 15, 11,\n",
       "       10, 11, 18, 12, 12, 11, 13, 18, 16, 12, 19, 10, 12, 19, 14, 19])"
      ]
     },
     "execution_count": 85,
     "metadata": {},
     "output_type": "execute_result"
    }
   ],
   "source": [
    "population"
   ]
  },
  {
   "cell_type": "code",
   "execution_count": 86,
   "id": "02a0e31c",
   "metadata": {},
   "outputs": [
    {
     "data": {
      "text/plain": [
       "14.92"
      ]
     },
     "execution_count": 86,
     "metadata": {},
     "output_type": "execute_result"
    }
   ],
   "source": [
    "np.mean(population)"
   ]
  },
  {
   "cell_type": "code",
   "execution_count": 87,
   "id": "9bcaea18",
   "metadata": {},
   "outputs": [
    {
     "data": {
      "text/plain": [
       "15.0"
      ]
     },
     "execution_count": 87,
     "metadata": {},
     "output_type": "execute_result"
    }
   ],
   "source": [
    "np.median(population)"
   ]
  },
  {
   "cell_type": "code",
   "execution_count": 88,
   "id": "e7d9f2a1",
   "metadata": {},
   "outputs": [
    {
     "data": {
      "text/plain": [
       "19"
      ]
     },
     "execution_count": 88,
     "metadata": {},
     "output_type": "execute_result"
    }
   ],
   "source": [
    "from statistics import mode\n",
    "mode(population)"
   ]
  },
  {
   "cell_type": "code",
   "execution_count": 90,
   "id": "fafe94a8",
   "metadata": {},
   "outputs": [],
   "source": [
    "#random sample form the population\n",
    "sample=np.random.choice(population,20)"
   ]
  },
  {
   "cell_type": "code",
   "execution_count": 93,
   "id": "183c404f",
   "metadata": {},
   "outputs": [
    {
     "name": "stdout",
     "output_type": "stream",
     "text": [
      "mean of the sample 14.15\n",
      "medien of the sample 13.0\n",
      "mode of the sample 13\n"
     ]
    }
   ],
   "source": [
    "print(f\"mean of the sample {np.mean(sample)}\")\n",
    "print(f\"medien of the sample {np.median(sample)}\")\n",
    "print(f\"mode of the sample {mode(sample)}\")"
   ]
  },
  {
   "cell_type": "markdown",
   "id": "2a90736d",
   "metadata": {},
   "source": [
    "**Suppose you have a population with any shape of probability distribution (not necessarily normal), and you draw random samples of a fixed size from this population. As the sample size increases, the distribution of the sample means approaches a normal distribution, regardless of the shape of the original population distribution.**"
   ]
  },
  {
   "cell_type": "code",
   "execution_count": 94,
   "id": "8209bf02",
   "metadata": {},
   "outputs": [],
   "source": [
    "sample1=np.random.choice(population,20)\n",
    "sample2=np.random.choice(population,20)\n",
    "sample3=np.random.choice(population,20)\n",
    "sample4=np.random.choice(population,20)"
   ]
  },
  {
   "cell_type": "code",
   "execution_count": 95,
   "id": "2af58128",
   "metadata": {},
   "outputs": [
    {
     "name": "stdout",
     "output_type": "stream",
     "text": [
      "[14 13 12 16 12 17 17 19 11 17 12 19 10 13 15 11 13 18 10 15]\n",
      "============================================================\n",
      "[13 13 14 19 11 15 13 16 19 15 10 12 13 19 19 10 13 12 11 16]\n",
      "============================================================\n",
      "[13 19 19 16 10 12 13 19 17 14 16 18 11 17 17 13 10 15 13 19]\n",
      "============================================================\n",
      "[14 14 19 19 12 12 12 12 13 19 10 14 18 19 18 17 13 17 18 11]\n"
     ]
    }
   ],
   "source": [
    "print(sample1)\n",
    "print(60*\"=\")\n",
    "print(sample2)\n",
    "print(60*\"=\")\n",
    "print(sample3)\n",
    "print(60*\"=\")\n",
    "print(sample4)"
   ]
  },
  {
   "cell_type": "code",
   "execution_count": 102,
   "id": "f5f7897c",
   "metadata": {},
   "outputs": [
    {
     "name": "stdout",
     "output_type": "stream",
     "text": [
      "============================================================\n"
     ]
    }
   ],
   "source": [
    "print(60*\"=\")"
   ]
  },
  {
   "cell_type": "code",
   "execution_count": 100,
   "id": "9b71bdd4",
   "metadata": {},
   "outputs": [
    {
     "name": "stdout",
     "output_type": "stream",
     "text": [
      "14.2\n",
      "14.15\n",
      "15.05\n",
      "15.05\n"
     ]
    }
   ],
   "source": [
    "mnean_of_the_sample=[]\n",
    "\n",
    "all_sample=[sample1,sample2,sample3,sample4]\n",
    "\n",
    "for sample in all_sample:\n",
    "    print(np.mean(sample))\n",
    "    mnean_of_the_sample.append(np.mean(sample))"
   ]
  },
  {
   "cell_type": "code",
   "execution_count": 101,
   "id": "068ee270",
   "metadata": {},
   "outputs": [
    {
     "data": {
      "text/plain": [
       "[14.2, 14.15, 15.05, 15.05]"
      ]
     },
     "execution_count": 101,
     "metadata": {},
     "output_type": "execute_result"
    }
   ],
   "source": [
    "mnean_of_the_sample"
   ]
  },
  {
   "cell_type": "code",
   "execution_count": 11,
   "id": "9a572b64",
   "metadata": {},
   "outputs": [],
   "source": [
    "import numpy as np\n",
    "population=np.random.lognormal(3.0,1.0,1000)"
   ]
  },
  {
   "cell_type": "code",
   "execution_count": 4,
   "id": "6471d9dc",
   "metadata": {},
   "outputs": [
    {
     "data": {
      "text/plain": [
       "array([1.35279129, 1.09263177, 1.77662663, 1.78552788, 2.08776054,\n",
       "       1.96871514, 1.21478789, 1.23319104, 2.10690445, 1.63632829,\n",
       "       1.77353853, 2.90573519, 1.01947062, 1.4118671 , 1.42124862,\n",
       "       1.28677782, 2.61133301, 1.3842217 , 2.39542467, 1.30795843,\n",
       "       2.92223263, 1.77988407, 2.12429462, 1.54932382, 2.47502185,\n",
       "       1.51018966, 2.09396765, 1.12026327, 1.61067378, 1.17365767,\n",
       "       2.2553925 , 1.51526274, 2.24757184, 1.23472357, 1.79049306,\n",
       "       2.7128293 , 1.0641772 , 1.15662414, 2.40548052, 1.89621202,\n",
       "       2.21108005, 2.45692089, 1.01068689, 2.71576926, 1.86557085,\n",
       "       2.93865096, 1.35856658, 1.36000346, 2.96795441, 1.00971196,\n",
       "       2.69117099, 1.74670032, 1.48354359, 1.202233  , 1.27762969,\n",
       "       2.23370305, 1.79836738, 2.8956698 , 2.19592976, 2.2952122 ,\n",
       "       2.84420215, 1.45798885, 1.01143302, 2.28576537, 1.71221976,\n",
       "       2.32009831, 2.52432986, 1.03142351, 2.69890957, 2.90568832,\n",
       "       1.89304651, 1.53695595, 2.91088146, 1.4201604 , 2.30424588,\n",
       "       1.254256  , 2.20628069, 1.22725305, 1.64493888, 2.31009815,\n",
       "       2.16881523, 2.56948819, 1.62778568, 2.35123217, 1.61916186,\n",
       "       1.70156095, 2.80466717, 2.39634049, 2.66588295, 2.74671949,\n",
       "       2.09362571, 2.32092651, 2.41103526, 2.46618729, 1.46799771,\n",
       "       2.97170467, 1.74305591, 2.919102  , 2.22736408, 2.92367827,\n",
       "       1.80259249, 2.342174  , 2.56593639, 1.4433391 , 1.57951426,\n",
       "       2.25866914, 1.43635002, 1.91839585, 2.52476141, 1.84199697,\n",
       "       2.91818224, 2.75506697, 2.23722857, 1.29679208, 1.83709165,\n",
       "       2.10824291, 1.93493213, 1.00221937, 1.36063499, 2.79188496,\n",
       "       2.61781397, 2.00043677, 2.08797551, 1.13363615, 1.40278204,\n",
       "       2.41733943, 1.34134285, 1.96203837, 2.22039064, 1.60113314,\n",
       "       1.23710825, 1.73631737, 2.07014646, 2.60690075, 1.85495239,\n",
       "       2.92708846, 2.8851458 , 1.37056729, 2.98186238, 1.41526302,\n",
       "       1.748634  , 1.55505412, 1.49039704, 1.31367497, 1.58627167,\n",
       "       2.57846025, 2.74149444, 2.747193  , 1.14775989, 1.93922141,\n",
       "       2.13092759, 1.79158824, 1.30250845, 1.93767848, 1.72296237,\n",
       "       2.06846479, 2.4293386 , 2.27367701, 2.64551069, 2.53702161,\n",
       "       1.29376201, 2.14334419, 2.14974081, 1.50245955, 1.24667093,\n",
       "       2.36712632, 1.19426061, 2.79744465, 1.23392505, 2.03638123,\n",
       "       1.67044459, 2.3616556 , 1.87762476, 1.73052607, 1.44248834,\n",
       "       2.2114363 , 1.93256106, 2.49087437, 1.29076118, 1.57431917,\n",
       "       2.19823412, 2.89432442, 1.72003613, 1.14837689, 2.26130762,\n",
       "       2.22353039, 2.87436669, 2.47560659, 2.76917312, 2.19706776,\n",
       "       1.56992865, 2.19173084, 2.98427259, 2.30939291, 2.6046657 ,\n",
       "       1.93290732, 1.71022716, 1.39922777, 1.32296588, 1.86956095,\n",
       "       1.89660086, 1.22294941, 1.26677088, 1.14006327, 2.56629035,\n",
       "       1.46132426, 1.44959671, 2.51800165, 2.48477204, 2.1034079 ,\n",
       "       2.76969969, 2.01307469, 1.86548247, 1.20101421, 1.92684627,\n",
       "       1.55173225, 2.11080862, 1.39649046, 1.76606922, 1.24750497,\n",
       "       1.80775843, 2.353956  , 1.83604173, 1.16331093, 1.42259383,\n",
       "       1.6311773 , 2.20101117, 1.04668931, 2.57221234, 2.9426285 ,\n",
       "       2.8772845 , 1.18755216, 1.9269673 , 2.90657028, 2.19616539,\n",
       "       2.45223127, 1.67624529, 2.57201181, 2.04858007, 2.39396651,\n",
       "       2.53190474, 1.97894371, 1.39404533, 2.59016165, 2.76951329,\n",
       "       2.05524845, 1.55735268, 2.41730394, 2.93609295, 1.40586721,\n",
       "       2.48090762, 1.37828615, 1.51707835, 1.11379252, 2.61885127,\n",
       "       2.89569757, 1.3212653 , 2.97775321, 2.81156899, 1.28808146,\n",
       "       2.43191244, 2.21278316, 1.12782632, 1.06969386, 2.79596214,\n",
       "       2.76748733, 1.47503661, 1.99563183, 1.35907678, 1.47456269,\n",
       "       2.70586307, 2.52512286, 1.11176143, 1.67480111, 1.02305573,\n",
       "       1.15189334, 1.7092772 , 1.55388716, 2.96877553, 1.16805223,\n",
       "       1.82215141, 1.73866707, 2.93314301, 2.11491429, 2.1313684 ,\n",
       "       2.34390574, 2.26549972, 1.74962708, 1.59331338, 1.24311526,\n",
       "       2.15604756, 2.11133036, 1.64366393, 1.72843781, 2.00041172,\n",
       "       1.39275128, 2.4962438 , 1.14296274, 2.16120389, 2.03248159,\n",
       "       1.11598368, 1.04696376, 2.12679387, 1.12992302, 1.92464228,\n",
       "       2.26947383, 1.68202862, 1.74636511, 2.57683133, 2.57027384,\n",
       "       2.44943745, 2.86673532, 2.7750003 , 2.80906443, 1.94567308,\n",
       "       1.39973164, 2.04332479, 1.70770693, 1.71738162, 1.86306751,\n",
       "       1.09879306, 2.32046175, 1.47333638, 2.91190707, 1.37748393,\n",
       "       2.28959984, 2.63733156, 2.02201705, 2.07618752, 2.70153433,\n",
       "       1.62753087, 2.46748104, 1.54318545, 1.73253979, 2.69364581,\n",
       "       2.02295661, 2.08982479, 2.96311539, 1.66428042, 2.1203831 ,\n",
       "       2.61289239, 1.02865924, 1.62367628, 2.06268064, 2.62300444,\n",
       "       1.28164946, 2.58839773, 2.41442491, 2.16772271, 1.05553391,\n",
       "       2.77552167, 2.58225725, 1.11344287, 2.61544032, 1.20831445,\n",
       "       2.4814347 , 1.28444788, 2.92090045, 2.02264374, 2.07282128,\n",
       "       1.63527374, 1.89984664, 1.33263916, 2.6875676 , 2.82789663,\n",
       "       1.92672668, 2.68452675, 1.65609619, 1.34450439, 2.17012925,\n",
       "       2.55326021, 2.10017659, 1.51767427, 1.41305631, 2.88505719,\n",
       "       2.0958924 , 1.04890977, 2.6276796 , 1.29406447, 1.34327064,\n",
       "       1.74507531, 1.83851566, 2.9800438 , 1.30634154, 1.05055117,\n",
       "       2.08524182, 1.96214335, 2.76207332, 1.03917965, 2.58767673,\n",
       "       2.50582067, 2.30569089, 1.75021162, 2.72306286, 1.63868981,\n",
       "       2.91624829, 2.09526333, 1.84380887, 1.60677924, 2.22796557,\n",
       "       2.58056298, 1.42194036, 1.06016489, 2.51972836, 1.27753878,\n",
       "       1.28010331, 2.77441692, 2.59603774, 1.51822571, 1.86026597,\n",
       "       1.62315602, 2.97334959, 2.76697162, 1.68481142, 2.20963328,\n",
       "       1.21268967, 2.50257934, 2.64078196, 2.06343495, 2.49327743,\n",
       "       2.9285544 , 1.10240609, 1.26048653, 2.99271211, 2.16167709,\n",
       "       1.13984534, 1.166555  , 1.1505998 , 1.22385749, 1.74146054,\n",
       "       1.68730936, 2.53336437, 1.42173066, 2.4720253 , 1.96065363,\n",
       "       2.30690663, 2.39776073, 1.76986927, 1.80003873, 1.19953642,\n",
       "       2.5369492 , 1.3818207 , 2.61610825, 1.59947086, 1.77023482,\n",
       "       2.61741624, 2.64011645, 2.38220324, 1.76553297, 2.38082957,\n",
       "       2.28341804, 1.93238776, 2.76473446, 2.69521445, 1.95189801,\n",
       "       1.73098433, 1.00467058, 2.15520948, 2.52648123, 2.6185401 ,\n",
       "       1.30821694, 1.50938897, 1.07568651, 1.40190845, 2.08545353,\n",
       "       2.36523947, 1.63349647, 2.55650257, 2.20652247, 1.24001486,\n",
       "       2.21691906, 1.58267628, 2.16329065, 1.59408158, 2.61761134,\n",
       "       2.49925846, 2.34605166, 1.24402571, 2.76418505, 1.01235088,\n",
       "       2.05303713, 2.04743767, 1.84908155, 2.91344177, 1.74392589,\n",
       "       1.57891345, 1.16989845, 2.03174543, 1.29042494, 2.21210649,\n",
       "       1.81850771, 2.40343193, 1.5081219 , 1.82389878, 2.09939011,\n",
       "       2.71576724, 2.66037304, 2.49563162, 2.35652666, 2.63928138,\n",
       "       2.79217643, 2.62264944, 1.67713464, 1.22623779, 2.65178878,\n",
       "       2.5589382 , 2.62796552, 1.40819854, 2.99887514, 2.47038811,\n",
       "       2.76521881, 1.77859881, 2.17911906, 2.22379853, 1.22445152,\n",
       "       2.91872417, 2.28171433, 1.43378287, 1.26662391, 2.01654565,\n",
       "       2.48701132, 2.31837778, 1.58098177, 2.17399043, 2.1774535 ,\n",
       "       1.44198028, 1.47169527, 1.33473881, 2.75563751, 2.41905841,\n",
       "       1.7858014 , 2.93763742, 1.88346303, 1.86635672, 2.40066584,\n",
       "       2.28700301, 2.30494296, 1.11809092, 1.94904241, 2.6812305 ,\n",
       "       2.2144914 , 1.45605107, 2.84953798, 2.76398988, 2.52070215,\n",
       "       2.88969204, 1.52401288, 2.01194965, 2.73880855, 2.84168672,\n",
       "       1.65939195, 1.72244247, 2.98730258, 1.84507636, 2.11386646,\n",
       "       1.99863474, 1.97036136, 1.8043912 , 2.47393618, 2.71351582,\n",
       "       1.71752808, 2.78281393, 2.90948411, 1.48616233, 2.80389047,\n",
       "       1.42271248, 1.32990794, 2.34021293, 2.58996883, 2.5436071 ,\n",
       "       1.59156522, 2.81756043, 1.92364259, 1.18291958, 2.74845382,\n",
       "       1.1601423 , 2.96769972, 1.66241054, 1.03438121, 1.52951714,\n",
       "       2.93113036, 2.9269293 , 1.18689517, 1.51333682, 1.62966589,\n",
       "       1.77500798, 1.7924489 , 2.67750581, 1.85414722, 2.57918561,\n",
       "       1.15999121, 1.02186665, 1.21370718, 2.04607531, 2.15128045,\n",
       "       2.15468953, 1.62270113, 2.77253911, 2.5362198 , 1.00756618,\n",
       "       2.32197968, 1.72875125, 2.39333936, 2.80917125, 2.4475221 ,\n",
       "       2.7115739 , 2.82944224, 1.93718414, 1.54032883, 2.18592907,\n",
       "       1.68850818, 1.92660842, 2.50889409, 1.96287014, 1.83436851,\n",
       "       2.64968413, 1.2848147 , 2.15675197, 2.01056442, 2.89890434,\n",
       "       2.38079289, 2.87170525, 1.64326324, 2.78230233, 2.09249101,\n",
       "       1.13572442, 1.04552875, 2.11420432, 2.27282268, 2.43932005,\n",
       "       1.24935126, 2.56468665, 1.28834011, 2.359084  , 1.51234367,\n",
       "       2.53613784, 1.64477586, 1.23246756, 2.37275185, 1.70049702,\n",
       "       1.50918827, 1.88291384, 2.99365741, 2.70722288, 2.87543663,\n",
       "       2.01810839, 1.10533829, 1.16589343, 1.54550862, 1.75134766,\n",
       "       2.93757461, 2.17309891, 1.53403786, 1.59486015, 1.94547264,\n",
       "       2.36904487, 1.88302877, 1.53370239, 2.48965768, 1.29334447,\n",
       "       1.3099856 , 1.31995311, 2.28652254, 2.96608332, 1.71076649,\n",
       "       1.05131541, 2.30989477, 2.77606175, 1.55919161, 2.56917306,\n",
       "       1.96380263, 2.93317033, 2.74696471, 2.63234658, 1.84481563,\n",
       "       1.04579019, 2.29223872, 2.06931011, 1.68273077, 1.89552984,\n",
       "       1.24971774, 2.62139507, 2.85328813, 1.55453705, 1.74121551,\n",
       "       1.0283053 , 2.94741823, 2.64750619, 2.29056814, 2.78381691,\n",
       "       2.78656358, 1.3469782 , 2.76634645, 2.59383197, 1.02971066,\n",
       "       2.11464821, 1.09851363, 1.78312665, 2.04241682, 2.21716493,\n",
       "       1.41552272, 2.7255641 , 2.13375959, 2.72459288, 2.78485873,\n",
       "       2.36388361, 1.02122699, 2.24551807, 2.61517236, 1.32662983,\n",
       "       1.25207454, 1.89843451, 1.06214431, 2.38403459, 1.63352044,\n",
       "       2.56340036, 1.44866269, 1.17861913, 1.6544904 , 1.61455145,\n",
       "       1.99777175, 1.09610276, 1.54129394, 2.08254781, 1.18274061,\n",
       "       2.8680095 , 2.78504412, 2.47368995, 1.36593441, 2.48299491,\n",
       "       2.17313335, 2.20248998, 1.99560988, 2.25807702, 2.00152808,\n",
       "       1.54563444, 2.8641922 , 1.13150067, 1.03497973, 1.32593247,\n",
       "       1.00509043, 2.02281346, 1.94556606, 2.19375278, 1.24448493,\n",
       "       1.49059969, 1.90837907, 2.57307713, 2.96526271, 1.96556063,\n",
       "       1.94425513, 2.88411105, 2.79589626, 2.81304881, 1.54161662,\n",
       "       2.84527978, 2.72367841, 2.35262847, 1.36068476, 1.99454479,\n",
       "       1.31578198, 2.74986634, 2.51333609, 1.68454283, 2.72376498,\n",
       "       2.63317494, 1.44937866, 1.58209575, 1.25665755, 2.38744443,\n",
       "       2.74835986, 2.83126988, 1.72318887, 1.59352644, 1.34912724,\n",
       "       2.83879197, 2.20896662, 1.83511625, 2.92948766, 2.73818746,\n",
       "       1.93993818, 2.42280613, 2.78956202, 2.82805372, 2.86228189,\n",
       "       1.77475813, 2.5064898 , 2.39053542, 1.79482279, 2.17867245,\n",
       "       1.13967383, 2.52042607, 1.25692177, 2.89120321, 1.71389727,\n",
       "       2.89803077, 1.99969586, 2.09355842, 1.58967636, 2.27339828,\n",
       "       1.85449201, 2.28102205, 2.29712232, 1.82664218, 2.0760589 ,\n",
       "       2.75276314, 2.027114  , 1.49579251, 1.48472281, 2.85032586,\n",
       "       2.65585824, 1.04952309, 2.31074878, 1.51939441, 2.323175  ,\n",
       "       1.16425274, 2.99222322, 1.95091489, 1.57478484, 1.85001455,\n",
       "       1.31986987, 2.10554404, 1.51113698, 2.89472288, 1.11472212,\n",
       "       2.75704507, 2.50396853, 2.79876117, 2.70555901, 1.61745183,\n",
       "       1.00786964, 2.85483607, 2.99615248, 2.27104662, 1.93503941,\n",
       "       2.46070542, 1.8517964 , 1.10271653, 1.24701414, 2.95848506,\n",
       "       2.47842553, 2.96039536, 2.3587181 , 1.21196185, 1.65505143,\n",
       "       1.27204714, 2.29665216, 2.48954299, 1.46230521, 1.79407931,\n",
       "       2.42163593, 1.00767204, 2.72480496, 1.152874  , 1.38934483,\n",
       "       1.51801725, 1.17974089, 2.65074276, 1.1786991 , 1.71814682,\n",
       "       1.37110402, 1.38416252, 1.11906252, 2.99556809, 1.21592906,\n",
       "       1.14176192, 2.1595148 , 2.29316034, 1.26617872, 2.27692617,\n",
       "       1.33790772, 2.02645374, 2.73562891, 1.19984571, 1.13671847,\n",
       "       2.79616856, 1.74056759, 2.94291461, 2.20772384, 2.36362694,\n",
       "       1.3148284 , 1.91571399, 1.35736478, 2.60408421, 1.23196287,\n",
       "       2.97337415, 2.48773752, 1.81079586, 2.38405374, 2.76304808,\n",
       "       2.77129681, 2.16738851, 2.20998607, 1.78203102, 1.84057557,\n",
       "       2.34861116, 1.92260216, 1.48962512, 2.05297262, 2.2807628 ,\n",
       "       1.76120101, 1.71905424, 2.28545462, 1.91227039, 1.09800898,\n",
       "       2.04011507, 1.4335226 , 1.28218413, 2.21015074, 2.90861843,\n",
       "       2.16816505, 2.11770008, 1.45269593, 2.27671752, 1.44756296,\n",
       "       1.63223691, 1.45887257, 2.57340833, 2.67731095, 1.60458595,\n",
       "       2.17599414, 1.18438428, 2.25814439, 2.6669053 , 2.37299446,\n",
       "       1.96905753, 1.66442373, 2.22332404, 2.23410517, 2.70093576,\n",
       "       2.72171546, 1.86984035, 2.70805088, 1.0377267 , 1.7383238 ,\n",
       "       1.66699641, 2.9228017 , 1.40465985, 1.69282759, 1.38987874,\n",
       "       2.85256147, 2.91046868, 1.63619856, 2.16424869, 2.70341529,\n",
       "       1.45596212, 1.40386654, 1.2580647 , 1.12571136, 2.03469129,\n",
       "       2.39143578, 2.97411846, 1.99650103, 1.99898944, 2.29479125,\n",
       "       1.89243468, 1.93061721, 1.25872563, 1.73004533, 2.95165103,\n",
       "       1.96285051, 1.33084965, 2.28326354, 1.21785204, 1.39167531,\n",
       "       2.85040657, 1.53989235, 2.30431886, 2.69598812, 1.1653459 ,\n",
       "       1.71217634, 2.70687708, 2.20757609, 2.40171179, 1.86430679,\n",
       "       2.45289825, 2.86918724, 1.85776143, 1.11102844, 2.85862629,\n",
       "       1.00130105, 2.03944752, 1.03672654, 1.77859642, 2.03805583,\n",
       "       2.31209109, 1.07206161, 1.84978578, 2.48597245, 2.34728753,\n",
       "       2.17610803, 1.04385342, 2.96005146, 2.36704848, 2.43815335,\n",
       "       2.81497037, 1.07718174, 2.85645666, 1.69777861, 2.96512781])"
      ]
     },
     "execution_count": 4,
     "metadata": {},
     "output_type": "execute_result"
    }
   ],
   "source": [
    "population"
   ]
  },
  {
   "cell_type": "code",
   "execution_count": 12,
   "id": "c0d14d75",
   "metadata": {},
   "outputs": [
    {
     "data": {
      "text/plain": [
       "1000"
      ]
     },
     "execution_count": 12,
     "metadata": {},
     "output_type": "execute_result"
    }
   ],
   "source": [
    "len(population)"
   ]
  },
  {
   "cell_type": "code",
   "execution_count": 13,
   "id": "babe4022",
   "metadata": {},
   "outputs": [
    {
     "name": "stderr",
     "output_type": "stream",
     "text": [
      "D:\\ANAKONDA\\INSTALLATION\\lib\\site-packages\\seaborn\\distributions.py:2557: FutureWarning: `distplot` is a deprecated function and will be removed in a future version. Please adapt your code to use either `displot` (a figure-level function with similar flexibility) or `histplot` (an axes-level function for histograms).\n",
      "  warnings.warn(msg, FutureWarning)\n"
     ]
    },
    {
     "data": {
      "text/plain": [
       "<AxesSubplot:ylabel='Density'>"
      ]
     },
     "execution_count": 13,
     "metadata": {},
     "output_type": "execute_result"
    },
    {
     "data": {
      "image/png": "[encoded data removed]",
      "text/plain": [
       "<Figure size 432x288 with 1 Axes>"
      ]
     },
     "metadata": {
      "needs_background": "light"
     },
     "output_type": "display_data"
    }
   ],
   "source": [
    "import seaborn as sns\n",
    "sns.distplot(population)"
   ]
  },
  {
   "cell_type": "markdown",
   "id": "391673ee",
   "metadata": {},
   "source": [
    "Suppose you have a population with any shape of probability distribution (not necessarily normal), and you draw random samples**(at least 30)** of a fixed size(in our case i took 3000 initially) from this population. As the sample size increases**(it might be anything and take as much as data)**, the distribution of the sample means approaches a normal distribution, regardless of the shape of the original population distribution."
   ]
  },
  {
   "cell_type": "code",
   "execution_count": 14,
   "id": "9a96c813",
   "metadata": {},
   "outputs": [
    {
     "data": {
      "text/plain": [
       "1000"
      ]
     },
     "execution_count": 14,
     "metadata": {},
     "output_type": "execute_result"
    }
   ],
   "source": [
    "len(population)"
   ]
  },
  {
   "cell_type": "code",
   "execution_count": 15,
   "id": "ffe7fa91",
   "metadata": {},
   "outputs": [
    {
     "name": "stdout",
     "output_type": "stream",
     "text": [
      "300\n"
     ]
    }
   ],
   "source": [
    "size=int(len(population)*0.30)\n",
    "print(size)"
   ]
  },
  {
   "cell_type": "code",
   "execution_count": 16,
   "id": "551ae16b",
   "metadata": {},
   "outputs": [],
   "source": [
    "sample_mean=[]\n",
    "\n",
    "for i in range(1,31):\n",
    "    sample=np.random.choice(population,size=size)\n",
    "    sample_mean.append(np.mean(sample))"
   ]
  },
  {
   "cell_type": "code",
   "execution_count": 141,
   "id": "20cbda4a",
   "metadata": {},
   "outputs": [
    {
     "data": {
      "text/plain": [
       "[32.54928093377833,\n",
       " 31.833335226624005,\n",
       " 38.07746051101965,\n",
       " 33.86932035826713,\n",
       " 28.958326376229987,\n",
       " 34.93959299077269,\n",
       " 35.72787466771079,\n",
       " 35.39098638808059,\n",
       " 33.324775860595054,\n",
       " 33.44794181112963,\n",
       " 32.773764329257205,\n",
       " 34.59071605376132,\n",
       " 32.227999177757525,\n",
       " 31.678643417952934,\n",
       " 33.18006154382263,\n",
       " 33.40464977767486,\n",
       " 32.228020209983455,\n",
       " 34.02757802234895,\n",
       " 31.383970778705905,\n",
       " 32.37496486890156,\n",
       " 35.58637273339273,\n",
       " 32.90622711455917,\n",
       " 32.02613010943042,\n",
       " 33.656396858266454,\n",
       " 35.66616884853157,\n",
       " 29.668912937198964,\n",
       " 30.99713819903193,\n",
       " 35.29664966028523,\n",
       " 32.96293656747478,\n",
       " 29.874977311804937]"
      ]
     },
     "execution_count": 141,
     "metadata": {},
     "output_type": "execute_result"
    }
   ],
   "source": [
    "sample_mean"
   ]
  },
  {
   "cell_type": "code",
   "execution_count": 17,
   "id": "d58246b5",
   "metadata": {},
   "outputs": [
    {
     "name": "stderr",
     "output_type": "stream",
     "text": [
      "D:\\ANAKONDA\\INSTALLATION\\lib\\site-packages\\seaborn\\distributions.py:2557: FutureWarning: `distplot` is a deprecated function and will be removed in a future version. Please adapt your code to use either `displot` (a figure-level function with similar flexibility) or `histplot` (an axes-level function for histograms).\n",
      "  warnings.warn(msg, FutureWarning)\n"
     ]
    },
    {
     "data": {
      "text/plain": [
       "<AxesSubplot:ylabel='Density'>"
      ]
     },
     "execution_count": 17,
     "metadata": {},
     "output_type": "execute_result"
    },
    {
     "data": {
      "image/png": "[encoded data removed]",
      "text/plain": [
       "<Figure size 432x288 with 1 Axes>"
      ]
     },
     "metadata": {
      "needs_background": "light"
     },
     "output_type": "display_data"
    }
   ],
   "source": [
    "sns.distplot(sample_mean)"
   ]
  },
  {
   "cell_type": "code",
   "execution_count": null,
   "id": "0ad4566d",
   "metadata": {},
   "outputs": [],
   "source": []
  }
 ],
 "metadata": {
  "kernelspec": {
   "display_name": "Python 3",
   "language": "python",
   "name": "python3"
  },
  "language_info": {
   "codemirror_mode": {
    "name": "ipython",
    "version": 3
   },
   "file_extension": ".py",
   "mimetype": "text/x-python",
   "name": "python",
   "nbconvert_exporter": "python",
   "pygments_lexer": "ipython3",
   "version": "3.8.8"
  }
 },
 "nbformat": 4,
 "nbformat_minor": 5
}
